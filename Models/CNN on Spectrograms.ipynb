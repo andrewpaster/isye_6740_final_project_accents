{
 "cells": [
  {
   "cell_type": "code",
   "execution_count": 1,
   "metadata": {},
   "outputs": [],
   "source": [
    "import numpy as np\n",
    "import pandas as pd \n",
    "import keras\n",
    "from keras.models import Sequential\n",
    "from keras.layers import Dense, Conv2D, Dropout, Flatten, MaxPooling2D\n",
    "from keras.models import model_from_json\n",
    "import tensorflow as tf\n",
    "import tensorflow as tf\n",
    "from tensorflow import keras\n",
    "from tensorflow.keras import layers\n",
    "import os\n",
    "from PIL import Image"
   ]
  },
  {
   "cell_type": "code",
   "execution_count": 2,
   "metadata": {},
   "outputs": [],
   "source": [
    "def rgb2gray(rgb):\n",
    "    return np.dot(rgb[...,:3], [0.2989, 0.5870, 0.1140])"
   ]
  },
  {
   "cell_type": "code",
   "execution_count": 3,
   "metadata": {},
   "outputs": [
    {
     "data": {
      "text/plain": [
       "'C:\\\\Users\\\\geral\\\\Documents\\\\Georgia Tech\\\\ISYE 6740\\\\Project\\\\Spectrograms'"
      ]
     },
     "execution_count": 3,
     "metadata": {},
     "output_type": "execute_result"
    }
   ],
   "source": [
    "directory = os.getcwd() + '\\\\Spectrograms'\n",
    "directory"
   ]
  },
  {
   "cell_type": "code",
   "execution_count": 5,
   "metadata": {},
   "outputs": [
    {
     "data": {
      "text/plain": [
       "(216, 216)"
      ]
     },
     "execution_count": 5,
     "metadata": {},
     "output_type": "execute_result"
    }
   ],
   "source": [
    "rgb2gray(np.asarray(Image.open('C:\\\\Users\\\\geral\\\\Documents\\\\Georgia Tech\\\\ISYE 6740\\\\Project\\\\Spectrograms\\\\DR1\\\\DR1+a+FCJF0+SX127-36054.jpg'))).shape"
   ]
  },
  {
   "cell_type": "code",
   "execution_count": 99,
   "metadata": {},
   "outputs": [
    {
     "name": "stdout",
     "output_type": "stream",
     "text": [
      "Shape before one-hot encoding:  (1228,)\n",
      "Shape after one-hot encoding:  (1228, 2)\n"
     ]
    }
   ],
   "source": [
    "folders = os.listdir('C:\\\\Users\\\\geral\\\\Documents\\\\Georgia Tech\\\\ISYE 6740\\\\Project\\\\Spectrograms')\n",
    "\n",
    "spectrograms = []\n",
    "region = []\n",
    "file_name = []\n",
    "for folder in folders:\n",
    "    p = 'C:\\\\Users\\\\geral\\\\Documents\\\\Georgia Tech\\\\ISYE 6740\\\\Project\\\\Spectrograms\\\\' + folder\n",
    "    specs = os.listdir(p)\n",
    "    for spec in specs:\n",
    "        if ('water' in spec or \n",
    "            'carry' in spec or \n",
    "            'greasy' in spec or \n",
    "            'every' in spec or \n",
    "            'evening' in spec or \n",
    "            'seldom' in spec):\n",
    "            im = Image.open(p + \"\\\\\" + spec)\n",
    "            a = np.asarray(im)\n",
    "            a = rgb2gray(a)\n",
    "            a = a.reshape(216**2).astype(\"float32\")/255\n",
    "            spectrograms.append(a)\n",
    "            region.append(folder)\n",
    "            file_name.append(p + \"\\\\\" + spec)\n",
    "            \n",
    "            \n",
    "water = np.empty((216**2,len(file_name)))\n",
    "for row in range(len(file_name)):\n",
    "    water[:,row] = spectrograms[row]\n",
    "    \n",
    "\n",
    "np.random.seed(123)\n",
    "idx = np.array([i for i in range(len(file_name))])\n",
    "np.random.shuffle(idx)    \n",
    "train_idx = list(idx[:int(len(idx)*.8)])\n",
    "test_idx = list(idx[int(len(idx)*.8):])\n",
    "    \n",
    "\n",
    "card_regions = []\n",
    "for i in region:\n",
    "    if i == 'DR1':\n",
    "        card_regions.append(int(1))\n",
    "    elif i == 'DR2':\n",
    "        card_regions.append(int(1))\n",
    "    elif i == 'DR3':\n",
    "        card_regions.append(int(1))\n",
    "    else:\n",
    "        card_regions.append(int(0))\n",
    "    \n",
    "        \n",
    "    \n",
    "xtrain = water[:,train_idx].T\n",
    "ytrain = np.array([card_regions[i] for i in range(len(region)) if i in train_idx])\n",
    "xtest = water[:,test_idx].T\n",
    "ytest = np.array([card_regions[i] for i in range(len(region)) if i in test_idx])\n",
    "\n",
    "\n",
    "\n",
    "# building the input vector from the 216x216 pixels\n",
    "xtrain = xtrain.reshape(xtrain.shape[0], 216, 216, 1)\n",
    "xtest = xtest.reshape(xtest.shape[0], 216, 216, 1)\n",
    "xtrain = xtrain.astype('float32')\n",
    "xtest = xtest.astype('float32')\n",
    "\n",
    "\n",
    "# one-hot encoding using keras' numpy-related utilities\n",
    "n_classes = 2\n",
    "print(\"Shape before one-hot encoding: \", ytrain.shape)\n",
    "ytrain = np_utils.to_categorical(ytrain, n_classes)\n",
    "ytest = np_utils.to_categorical(ytest, n_classes)\n",
    "print(\"Shape after one-hot encoding: \", ytrain.shape)\n"
   ]
  },
  {
   "cell_type": "code",
   "execution_count": 138,
   "metadata": {},
   "outputs": [
    {
     "name": "stdout",
     "output_type": "stream",
     "text": [
      "Shape before one-hot encoding:  (1228,)\n",
      "Shape after one-hot encoding:  (1228, 8)\n"
     ]
    }
   ],
   "source": [
    "folders = os.listdir('C:\\\\Users\\\\geral\\\\Documents\\\\Georgia Tech\\\\ISYE 6740\\\\Project\\\\Spectrograms')\n",
    "\n",
    "spectrograms = []\n",
    "region = []\n",
    "file_name = []\n",
    "for folder in folders:\n",
    "    p = 'C:\\\\Users\\\\geral\\\\Documents\\\\Georgia Tech\\\\ISYE 6740\\\\Project\\\\Spectrograms\\\\' + folder\n",
    "    specs = os.listdir(p)\n",
    "    for spec in specs:\n",
    "        if ('water' in spec or \n",
    "            'carry' in spec or \n",
    "            'greasy' in spec or \n",
    "            'every' in spec or \n",
    "            'evening' in spec or \n",
    "            'seldom' in spec):\n",
    "            im = Image.open(p + \"\\\\\" + spec)\n",
    "            a = np.asarray(im)\n",
    "            a = rgb2gray(a)\n",
    "            a = a.reshape(216**2).astype(\"float32\")/255\n",
    "            spectrograms.append(a)\n",
    "            region.append(folder)\n",
    "            file_name.append(p + \"\\\\\" + spec)\n",
    "            \n",
    "            \n",
    "water = np.empty((216**2,len(file_name)))\n",
    "for row in range(len(file_name)):\n",
    "    water[:,row] = spectrograms[row]\n",
    "    \n",
    "\n",
    "np.random.seed(123)\n",
    "idx = np.array([i for i in range(len(file_name))])\n",
    "np.random.shuffle(idx)    \n",
    "train_idx = list(idx[:int(len(idx)*.8)])\n",
    "test_idx = list(idx[int(len(idx)*.8):])\n",
    "    \n",
    "\n",
    "card_regions = []\n",
    "for i in region:\n",
    "    if i == 'DR1':\n",
    "        card_regions.append(int(1))\n",
    "    elif i == 'DR2':\n",
    "        card_regions.append(int(1))\n",
    "    elif i == 'DR3':\n",
    "        card_regions.append(int(1))\n",
    "    else:\n",
    "        card_regions.append(int(0))\n",
    "card_regions = np.array([int(region[i][2:]) for i in range(len(region))])    \n",
    "        \n",
    "    \n",
    "xtrain = water[:,train_idx].T\n",
    "ytrain = card_regions[train_idx]\n",
    "xtest = water[:,test_idx].T\n",
    "ytest = card_regions[test_idx]\n",
    "\n",
    "\n",
    "\n",
    "# building the input vector from the 216x216 pixels\n",
    "xtrain = xtrain.reshape(xtrain.shape[0], 216, 216, 1)\n",
    "xtest = xtest.reshape(xtest.shape[0], 216, 216, 1)\n",
    "xtrain = xtrain.astype('float32')\n",
    "xtest = xtest.astype('float32')\n",
    "\n",
    "\n",
    "# one-hot encoding using keras' numpy-related utilities\n",
    "n_classes = 8\n",
    "print(\"Shape before one-hot encoding: \", ytrain.shape)\n",
    "ytrain = np_utils.to_categorical(ytrain)[:,1:]\n",
    "ytest = np_utils.to_categorical(ytest)[:,1:]\n",
    "print(\"Shape after one-hot encoding: \", ytrain.shape)\n"
   ]
  },
  {
   "cell_type": "code",
   "execution_count": 139,
   "metadata": {},
   "outputs": [
    {
     "data": {
      "text/plain": [
       "array([ 98., 209., 189., 189., 192.,  90., 203.,  58.], dtype=float32)"
      ]
     },
     "execution_count": 139,
     "metadata": {},
     "output_type": "execute_result"
    }
   ],
   "source": [
    "np.sum(ytrain,axis = 0)"
   ]
  },
  {
   "cell_type": "code",
   "execution_count": null,
   "metadata": {},
   "outputs": [
    {
     "name": "stdout",
     "output_type": "stream",
     "text": [
      "Epoch 1/10\n",
      "39/39 [==============================] - 83s 2s/step - loss: 22.8832 - accuracy: 0.1323 - val_loss: 2.0019 - val_accuracy: 0.1726\n",
      "Epoch 2/10\n",
      "39/39 [==============================] - 82s 2s/step - loss: 2.0532 - accuracy: 0.1462 - val_loss: 1.9994 - val_accuracy: 0.1661\n",
      "Epoch 3/10\n",
      "39/39 [==============================] - 86s 2s/step - loss: 2.0171 - accuracy: 0.1630 - val_loss: 2.0152 - val_accuracy: 0.1401\n",
      "Epoch 4/10\n",
      " 9/39 [=====>........................] - ETA: 1:03 - loss: 1.9179 - accuracy: 0.2721"
     ]
    }
   ],
   "source": [
    "# keras imports for the dataset and building our neural network\n",
    "from keras.datasets import mnist\n",
    "from keras.models import Sequential\n",
    "from keras.layers import Dense, Dropout, Conv2D, MaxPool2D, Flatten\n",
    "from keras.utils import np_utils\n",
    "\n",
    "# to calculate accuracy\n",
    "from sklearn.metrics import accuracy_score\n",
    "\n",
    "\n",
    "# building a linear stack of layers with the sequential model\n",
    "model = Sequential()\n",
    "model.add(Conv2D(32, kernel_size=(3, 3), activation='relu',strides=(2,1), input_shape=((216,216,1))))\n",
    "model.add(Conv2D(64, kernel_size=(3, 3), activation='relu'))\n",
    "model.add(MaxPooling2D(pool_size=(1, 1)))\n",
    "model.add(Dropout(0.25))\n",
    "model.add(Flatten())\n",
    "model.add(Dense(128, activation='relu'))\n",
    "model.add(Dropout(0.5))\n",
    "model.add(Dense(8, activation='softmax'))\n",
    "\n",
    "# compiling the sequential model\n",
    "model.compile(loss='categorical_crossentropy', metrics=['accuracy'], optimizer='adam')\n",
    "\n",
    "# # training the model for 10 epochs\n",
    "model.fit(xtrain, ytrain,  epochs=150, validation_data=(xtest, ytest))"
   ]
  }
 ],
 "metadata": {
  "kernelspec": {
   "display_name": "Python 3",
   "language": "python",
   "name": "python3"
  },
  "language_info": {
   "codemirror_mode": {
    "name": "ipython",
    "version": 3
   },
   "file_extension": ".py",
   "mimetype": "text/x-python",
   "name": "python",
   "nbconvert_exporter": "python",
   "pygments_lexer": "ipython3",
   "version": "3.8.5"
  }
 },
 "nbformat": 4,
 "nbformat_minor": 4
}
