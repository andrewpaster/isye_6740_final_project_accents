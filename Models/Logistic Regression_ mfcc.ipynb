{
 "cells": [
  {
   "cell_type": "markdown",
   "id": "optional-shift",
   "metadata": {},
   "source": [
    "# Logistic Regression Classifier\n",
    "\n",
    "The goal of this notebook is to classify our samples using a Logistic Regression model. We will attempt 3 different variations in terms of target variables.\n",
    "\n",
    "1. Each individual accent\n",
    "2. Consolidated accents (North, Mid, South, West)\n",
    "3. Further consolidated regions (East, west)\n",
    "\n",
    "\n"
   ]
  },
  {
   "cell_type": "code",
   "execution_count": 1,
   "id": "weighted-coordinate",
   "metadata": {},
   "outputs": [],
   "source": [
    "import librosa\n",
    "import os\n",
    "import librosa.display\n",
    "import matplotlib.pyplot as plt\n",
    "import numpy as np\n",
    "import pandas as pd\n",
    "import seaborn as sns\n",
    "from sklearn.decomposition import PCA\n",
    "from sklearn.metrics import roc_curve, auc\n",
    "\n",
    "from sklearn.model_selection import GridSearchCV\n",
    "\n",
    "from sklearn.model_selection import train_test_split\n",
    "from sklearn.metrics import classification_report, pairwise_distances, confusion_matrix\n",
    "\n",
    "from matplotlib.colors import ListedColormap\n",
    "\n",
    "\n",
    "from sklearn.linear_model import LogisticRegression\n"
   ]
  },
  {
   "cell_type": "code",
   "execution_count": 2,
   "id": "formal-merchant",
   "metadata": {},
   "outputs": [],
   "source": [
    "def plot_conf_matconf(conf_mat, save_fig=None):\n",
    "    fig = plt.figure(figsize=(16, 14))\n",
    "    ax= plt.subplot()\n",
    "    sns.heatmap(conf_mat, annot=True, ax = ax, fmt = 'g'); #annot=True to annotate cells\n",
    "\n",
    "    ax.set_xlabel('Predicted', fontsize=20)\n",
    "    ax.xaxis.set_label_position('bottom')\n",
    "    plt.xticks(rotation=90)\n",
    "    ax.xaxis.tick_bottom()\n",
    "\n",
    "    ax.set_ylabel('True', fontsize=20)\n",
    "    plt.yticks(rotation=0)\n",
    "\n",
    "    plt.title('Refined Confusion Matrix', fontsize=20)\n",
    "\n",
    "    if save_fig:\n",
    "        plt.savefig(f'{save_fig}.png')\n",
    "\n",
    "    plt.show()"
   ]
  },
  {
   "cell_type": "code",
   "execution_count": 3,
   "id": "premium-teddy",
   "metadata": {},
   "outputs": [],
   "source": [
    "def average_speakers(mfcc_df):\n",
    "    feature_cols = [x for x in mfcc_df.columns if 'feature' in x]\n",
    "    \n",
    "    target = mfcc_df[['speaker', 'accent']].drop_duplicates()\n",
    "    \n",
    "    mfcc_grouped = mfcc_df.groupby(['speaker', 'word'])[feature_cols].mean().reset_index()\n",
    "    \n",
    "    joined = pd.merge(how='left', left=mfcc_grouped, right = target, left_on='speaker', right_on = 'speaker')\n",
    "    \n",
    "    return joined\n",
    "\n",
    "\n",
    "\n",
    "\n",
    "def load_data():\n",
    "    train = pd.read_csv('all_words_train_mfcc.csv')\n",
    "    test = pd.read_csv('all_words_test_mfcc.csv')\n",
    "    \n",
    "    train = train.loc[train['accent'] != 'DR8']\n",
    "    test = test.loc[test['accent'] != 'DR8']\n",
    "    test = test.loc[test.word.isin(train.word)].reset_index()\n",
    "    \n",
    "    train = average_speakers(train)\n",
    "    \n",
    "    british_df = pd.read_csv('british_mfcc.csv')\n",
    "    feature_cols = [x for x in british_df.columns if 'feature' in x]\n",
    "    \n",
    "    return train, test, british_df[feature_cols]\n",
    "\n",
    "\n",
    "train, test, british_df = load_data()"
   ]
  },
  {
   "cell_type": "code",
   "execution_count": 4,
   "id": "enormous-discretion",
   "metadata": {},
   "outputs": [
    {
     "name": "stdout",
     "output_type": "stream",
     "text": [
      "(732, 12)\n"
     ]
    },
    {
     "data": {
      "text/plain": [
       "(10854, 18)"
      ]
     },
     "execution_count": 4,
     "metadata": {},
     "output_type": "execute_result"
    }
   ],
   "source": [
    "test.shape # 13596\n",
    "print(british_df.shape)\n",
    "test.loc[test['word'].isin(train['word'])].shape"
   ]
  },
  {
   "cell_type": "code",
   "execution_count": 5,
   "id": "consecutive-lobby",
   "metadata": {},
   "outputs": [
    {
     "data": {
      "text/plain": [
       "DR4    2146\n",
       "DR5    1923\n",
       "DR3    1857\n",
       "DR2    1826\n",
       "DR7    1552\n",
       "DR6     777\n",
       "DR1     773\n",
       "Name: accent, dtype: int64"
      ]
     },
     "execution_count": 5,
     "metadata": {},
     "output_type": "execute_result"
    }
   ],
   "source": [
    "test.accent.value_counts()"
   ]
  },
  {
   "cell_type": "code",
   "execution_count": 6,
   "id": "published-distributor",
   "metadata": {},
   "outputs": [],
   "source": [
    "def logistic_reg(train, test, display_conf=True, word=None, features = None, tune = False):\n",
    "    if features:\n",
    "        feature_cols = features\n",
    "        \n",
    "    else:\n",
    "        feature_cols = [x for x in train.columns if 'feature' in x]\n",
    "\n",
    "    if word:\n",
    "        train = train.loc[train['word'] == word]\n",
    "        test = test.loc[test['word'] == word]\n",
    "        \n",
    "    \n",
    "    X_train = train[feature_cols]\n",
    "    y_train = train['accent']\n",
    "    \n",
    "    X_test = test[feature_cols]\n",
    "    y_test = test['accent']\n",
    "    \n",
    "    logit = LogisticRegression(max_iter = 1250)\n",
    "    C = np.logspace(0, 4, 10)\n",
    "    hyperparameters = dict(C=C)\n",
    "\n",
    "    clf = GridSearchCV(logit, hyperparameters, cv=5, verbose=0)\n",
    "\n",
    "    best_model = clf.fit(X_train, y_train)\n",
    "\n",
    "    # View best hyperparameters\n",
    "    print('Best Penalty:', best_model.best_estimator_.get_params()['penalty'])\n",
    "    print('Best C:', best_model.best_estimator_.get_params()['C'])\n",
    "                           \n",
    "    y_pred = best_model.predict(X_test)\n",
    "    \n",
    "    conf_df = pd.DataFrame(classification_report(y_test, y_pred, output_dict=True))\n",
    "\n",
    "    if display_conf:\n",
    "        conf_mat = confusion_matrix(y_test, y_pred)\n",
    "        plot_conf_matconf(conf_mat)\n",
    "    \n",
    "        print(\"Logistic Reg Number of mislabeled points out of a total %d points : %d\" % (X_test.shape[0], (y_test != y_pred).sum()))    \n",
    "        print(conf_df)\n",
    "    \n",
    "    \n",
    "    return best_model, y_pred, conf_df\n",
    "\n",
    "\n",
    "\n"
   ]
  },
  {
   "cell_type": "code",
   "execution_count": 7,
   "id": "crude-tower",
   "metadata": {},
   "outputs": [
    {
     "name": "stdout",
     "output_type": "stream",
     "text": [
      "Best Penalty: l2\n",
      "Best C: 1.0\n"
     ]
    },
    {
     "name": "stderr",
     "output_type": "stream",
     "text": [
      "C:\\Users\\glenn\\miniconda3\\envs\\cda\\lib\\site-packages\\sklearn\\metrics\\_classification.py:1245: UndefinedMetricWarning: Precision and F-score are ill-defined and being set to 0.0 in labels with no predicted samples. Use `zero_division` parameter to control this behavior.\n",
      "  _warn_prf(average, modifier, msg_start, len(result))\n",
      "C:\\Users\\glenn\\miniconda3\\envs\\cda\\lib\\site-packages\\sklearn\\metrics\\_classification.py:1245: UndefinedMetricWarning: Precision and F-score are ill-defined and being set to 0.0 in labels with no predicted samples. Use `zero_division` parameter to control this behavior.\n",
      "  _warn_prf(average, modifier, msg_start, len(result))\n",
      "C:\\Users\\glenn\\miniconda3\\envs\\cda\\lib\\site-packages\\sklearn\\metrics\\_classification.py:1245: UndefinedMetricWarning: Precision and F-score are ill-defined and being set to 0.0 in labels with no predicted samples. Use `zero_division` parameter to control this behavior.\n",
      "  _warn_prf(average, modifier, msg_start, len(result))\n"
     ]
    },
    {
     "data": {
      "image/png": "[encoded data removed]",
      "text/plain": [
       "<Figure size 1152x1008 with 2 Axes>"
      ]
     },
     "metadata": {
      "needs_background": "light"
     },
     "output_type": "display_data"
    },
    {
     "name": "stdout",
     "output_type": "stream",
     "text": [
      "Logistic Reg Number of mislabeled points out of a total 10854 points : 8737\n",
      "             DR1          DR2          DR3          DR4          DR5  \\\n",
      "precision    0.0     0.211155     0.208428     0.192000     0.186583   \n",
      "recall       0.0     0.203176     0.247711     0.067102     0.231409   \n",
      "f1-score     0.0     0.207089     0.226378     0.099448     0.206592   \n",
      "support    773.0  1826.000000  1857.000000  2146.000000  1923.000000   \n",
      "\n",
      "                  DR6          DR7  accuracy     macro avg  weighted avg  \n",
      "precision    0.142857     0.185940  0.195043      0.160995      0.179015  \n",
      "recall       0.005148     0.446521  0.195043      0.171581      0.195043  \n",
      "f1-score     0.009938     0.262550  0.195043      0.144571      0.168087  \n",
      "support    777.000000  1552.000000  0.195043  10854.000000  10854.000000  \n"
     ]
    }
   ],
   "source": [
    "logit_whole, logit_y_pred_whole, logit_conf_whole = logistic_reg(train, test)\n"
   ]
  },
  {
   "cell_type": "code",
   "execution_count": null,
   "id": "danish-depression",
   "metadata": {},
   "outputs": [],
   "source": [
    "british_pred = logit_whole.predict(british_df)"
   ]
  },
  {
   "cell_type": "code",
   "execution_count": null,
   "id": "hired-first",
   "metadata": {},
   "outputs": [],
   "source": [
    "whole_pred = pd.DataFrame(british_pred, columns = ['pred_accent'])\n",
    "\n",
    "whole_pred['pred_tally'] = 1\n",
    "\n",
    "print(whole_pred['pred_accent'].value_counts())\n",
    "\n",
    "\n",
    "whole_bp = whole_pred.groupby('pred_accent').sum()\n",
    "whole_bp['pred_percent'] = whole_bp['pred_tally'] / whole_bp['pred_tally'].sum() * 100.00\n",
    "\n",
    "whole_bp.head(10)"
   ]
  },
  {
   "cell_type": "code",
   "execution_count": null,
   "id": "psychological-compatibility",
   "metadata": {},
   "outputs": [],
   "source": [
    "consolidate_region_map = {\n",
    "    'DR1': 'North',\n",
    "    'DR2': 'North',\n",
    "    'DR3': 'Mid',\n",
    "    'DR4': 'Mid',\n",
    "    'DR5': 'South',\n",
    "    'DR6': 'North',\n",
    "    'DR7': 'West',\n",
    "}\n",
    "\n",
    "\n",
    "\n",
    "def consolidate_regions(train, test, dict_map):\n",
    "    condensed_train = train.copy()\n",
    "    condensed_train['region'] = condensed_train['accent'].map(dict_map)\n",
    "    condensed_train['accent'] = condensed_train['region']\n",
    "    \n",
    "    condensed_test = test.copy()\n",
    "    condensed_test['region'] = condensed_test['accent'].map(dict_map)\n",
    "    condensed_test['accent'] = condensed_test['region']\n",
    "    \n",
    "    return condensed_train, condensed_test\n"
   ]
  },
  {
   "cell_type": "code",
   "execution_count": null,
   "id": "unknown-easter",
   "metadata": {},
   "outputs": [],
   "source": [
    "condensed_train, condensed_test = consolidate_regions(train, test, consolidate_region_map)\n",
    "\n",
    "condensed_test.accent.value_counts()"
   ]
  },
  {
   "cell_type": "code",
   "execution_count": null,
   "id": "controversial-element",
   "metadata": {},
   "outputs": [],
   "source": [
    "logit_condensed, logit_y_pred_condensed, logit_conf_condensed = logistic_reg(condensed_train, condensed_test)\n"
   ]
  },
  {
   "cell_type": "code",
   "execution_count": null,
   "id": "sitting-species",
   "metadata": {},
   "outputs": [],
   "source": [
    "british_pred = logit_condensed.predict(british_df)\n",
    "\n",
    "\n",
    "condensed_pred = pd.DataFrame(british_pred, columns = ['pred_accent'])\n",
    "\n",
    "condensed_pred['pred_tally'] = 1\n",
    "\n",
    "print(condensed_pred['pred_accent'].value_counts())\n",
    "\n",
    "\n",
    "condensed__sum = condensed_pred.groupby('pred_accent').sum()\n",
    "condensed__sum['pred_percent'] = condensed__sum['pred_tally'] / condensed__sum['pred_tally'].sum() * 100.00\n",
    "\n",
    "condensed__sum.head(10)\n"
   ]
  },
  {
   "cell_type": "code",
   "execution_count": null,
   "id": "nonprofit-report",
   "metadata": {},
   "outputs": [],
   "source": [
    "consolidate_mas = {\n",
    "    'North': 'East',\n",
    "    'Mid': 'East',\n",
    "    'South': 'East',\n",
    "    'West': 'West',\n",
    "}\n",
    "\n",
    "\n",
    "condensed_train_two_regions, condensed_tes_two_regions = consolidate_regions(condensed_train, condensed_test, consolidate_mas)\n",
    "\n",
    "\n",
    "condensed_train_two_regions.accent.value_counts()"
   ]
  },
  {
   "cell_type": "code",
   "execution_count": null,
   "id": "ongoing-weekly",
   "metadata": {},
   "outputs": [],
   "source": [
    "logit_cm, logit_y_pred_cm, logit_conf_cm = logistic_reg(condensed_train_two_regions, condensed_tes_two_regions)\n"
   ]
  },
  {
   "cell_type": "code",
   "execution_count": null,
   "id": "massive-longer",
   "metadata": {},
   "outputs": [],
   "source": [
    "british_pred = logit_cm.predict(british_df)\n",
    "\n",
    "\n",
    "cm_pred = pd.DataFrame(british_pred, columns = ['pred_accent'])\n",
    "\n",
    "cm_pred['pred_tally'] = 1\n",
    "\n",
    "print(cm_pred['pred_accent'].value_counts())\n",
    "\n",
    "\n",
    "cm_pred__sum = cm_pred.groupby('pred_accent').sum()\n",
    "cm_pred__sum['pred_percent'] = cm_pred__sum['pred_tally'] / cm_pred__sum['pred_tally'].sum() * 100.00\n",
    "\n",
    "cm_pred__sum.head(10)"
   ]
  },
  {
   "cell_type": "code",
   "execution_count": null,
   "id": "french-cooper",
   "metadata": {},
   "outputs": [],
   "source": []
  }
 ],
 "metadata": {
  "kernelspec": {
   "display_name": "Python 3",
   "language": "python",
   "name": "python3"
  },
  "language_info": {
   "codemirror_mode": {
    "name": "ipython",
    "version": 3
   },
   "file_extension": ".py",
   "mimetype": "text/x-python",
   "name": "python",
   "nbconvert_exporter": "python",
   "pygments_lexer": "ipython3",
   "version": "3.9.1"
  }
 },
 "nbformat": 4,
 "nbformat_minor": 5
}
