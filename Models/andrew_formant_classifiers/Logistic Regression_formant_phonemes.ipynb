{
 "cells": [
  {
   "cell_type": "markdown",
   "id": "optional-shift",
   "metadata": {},
   "source": [
    "# Logistic Regression Classifier\n",
    "\n",
    "The goal of this notebook is to classify our samples using a Logistic Regression model. We will attempt 3 different variations in terms of target variables.\n",
    "\n",
    "1. Each individual accent\n",
    "2. Consolidated accents (North, Mid, South, West)\n",
    "3. Further consolidated regions (East, west)\n",
    "\n",
    "\n"
   ]
  },
  {
   "cell_type": "code",
   "execution_count": 2,
   "id": "weighted-coordinate",
   "metadata": {},
   "outputs": [],
   "source": [
    "import librosa\n",
    "import os\n",
    "import librosa.display\n",
    "import matplotlib.pyplot as plt\n",
    "import numpy as np\n",
    "import pandas as pd\n",
    "import seaborn as sns\n",
    "from sklearn.decomposition import PCA\n",
    "\n",
    "from sklearn.model_selection import GridSearchCV\n",
    "\n",
    "from sklearn.model_selection import train_test_split\n",
    "from sklearn.metrics import classification_report, pairwise_distances, confusion_matrix\n",
    "\n",
    "from matplotlib.colors import ListedColormap\n",
    "\n",
    "from sklearn.linear_model import LogisticRegression"
   ]
  },
  {
   "cell_type": "code",
   "execution_count": 3,
   "id": "formal-merchant",
   "metadata": {},
   "outputs": [],
   "source": [
    "def plot_conf_matconf(conf_mat, save_fig=None):\n",
    "    fig = plt.figure(figsize=(16, 14))\n",
    "    ax= plt.subplot()\n",
    "    sns.heatmap(conf_mat, annot=True, ax = ax, fmt = 'g'); #annot=True to annotate cells\n",
    "\n",
    "    ax.set_xlabel('Predicted', fontsize=20)\n",
    "    ax.xaxis.set_label_position('bottom')\n",
    "    plt.xticks(rotation=90)\n",
    "    ax.xaxis.tick_bottom()\n",
    "\n",
    "    ax.set_ylabel('True', fontsize=20)\n",
    "    plt.yticks(rotation=0)\n",
    "\n",
    "    plt.title('Refined Confusion Matrix', fontsize=20)\n",
    "\n",
    "    if save_fig:\n",
    "        plt.savefig(f'{save_fig}.png')\n",
    "\n",
    "    plt.show()"
   ]
  },
  {
   "cell_type": "code",
   "execution_count": 23,
   "id": "premium-teddy",
   "metadata": {},
   "outputs": [],
   "source": [
    "def average_speakers(mfcc_df):\n",
    "    \n",
    "    feature_cols = [x for x in mfcc_df.columns if 'mfcc_median' in x]\n",
    "    \n",
    "    target = mfcc_df[['speaker', 'accent']].drop_duplicates()\n",
    "    \n",
    "    mfcc_grouped = mfcc_df.groupby(['speaker', 'phoneme'])[feature_cols].mean().reset_index()\n",
    "    \n",
    "    joined = pd.merge(how='left', left=mfcc_grouped, right = target, left_on='speaker', right_on = 'speaker')\n",
    "    \n",
    "    return joined, feature_cols\n",
    "\n",
    "\n",
    "\n",
    "\n",
    "def load_data():\n",
    "    train = pd.read_csv('../../../data/train_formants_phonemes.csv')\n",
    "    test = pd.read_csv('../../../data/test_formants_phonemes.csv')\n",
    "    \n",
    "    train = train.loc[train['accent'] != 'DR8']\n",
    "    test = test.loc[test['accent'] != 'DR8']\n",
    "    test = test.loc[test.word.isin(train.word)].reset_index()\n",
    "    \n",
    "    train, feature_cols = average_speakers(train)\n",
    "    \n",
    "    british_df = pd.read_csv('../../../data/british_formants_phonemes.csv')\n",
    "    feature_cols = [x for x in british_df.columns if 'mfcc_median' in x]\n",
    "    \n",
    "    return train, test, british_df[feature_cols], feature_cols\n",
    "\n",
    "\n",
    "train, test, british_df, feature_cols = load_data()"
   ]
  },
  {
   "cell_type": "code",
   "execution_count": 24,
   "id": "5cd4503f",
   "metadata": {},
   "outputs": [
    {
     "data": {
      "text/html": [
       "<div>\n",
       "<style scoped>\n",
       "    .dataframe tbody tr th:only-of-type {\n",
       "        vertical-align: middle;\n",
       "    }\n",
       "\n",
       "    .dataframe tbody tr th {\n",
       "        vertical-align: top;\n",
       "    }\n",
       "\n",
       "    .dataframe thead th {\n",
       "        text-align: right;\n",
       "    }\n",
       "</style>\n",
       "<table border=\"1\" class=\"dataframe\">\n",
       "  <thead>\n",
       "    <tr style=\"text-align: right;\">\n",
       "      <th></th>\n",
       "      <th>mfcc_median_1</th>\n",
       "      <th>mfcc_median_2</th>\n",
       "      <th>mfcc_median_3</th>\n",
       "      <th>mfcc_median_4</th>\n",
       "      <th>mfcc_median_5</th>\n",
       "      <th>mfcc_median_6</th>\n",
       "      <th>mfcc_median_7</th>\n",
       "      <th>mfcc_median_8</th>\n",
       "      <th>mfcc_median_9</th>\n",
       "      <th>mfcc_median_10</th>\n",
       "      <th>mfcc_median_11</th>\n",
       "      <th>mfcc_median_12</th>\n",
       "    </tr>\n",
       "  </thead>\n",
       "  <tbody>\n",
       "    <tr>\n",
       "      <th>0</th>\n",
       "      <td>272.330770</td>\n",
       "      <td>-8.595469</td>\n",
       "      <td>38.280541</td>\n",
       "      <td>-9.332285</td>\n",
       "      <td>-33.662383</td>\n",
       "      <td>-16.696240</td>\n",
       "      <td>-44.373869</td>\n",
       "      <td>30.528335</td>\n",
       "      <td>43.265023</td>\n",
       "      <td>-12.658478</td>\n",
       "      <td>2.939703</td>\n",
       "      <td>-45.539513</td>\n",
       "    </tr>\n",
       "    <tr>\n",
       "      <th>1</th>\n",
       "      <td>234.689936</td>\n",
       "      <td>7.647177</td>\n",
       "      <td>61.076451</td>\n",
       "      <td>24.944757</td>\n",
       "      <td>-38.814549</td>\n",
       "      <td>-16.006891</td>\n",
       "      <td>-47.088980</td>\n",
       "      <td>34.107574</td>\n",
       "      <td>38.258621</td>\n",
       "      <td>-8.202258</td>\n",
       "      <td>-0.152856</td>\n",
       "      <td>-28.319855</td>\n",
       "    </tr>\n",
       "    <tr>\n",
       "      <th>2</th>\n",
       "      <td>310.780165</td>\n",
       "      <td>-5.903211</td>\n",
       "      <td>-11.727140</td>\n",
       "      <td>-53.900031</td>\n",
       "      <td>-0.840551</td>\n",
       "      <td>43.646544</td>\n",
       "      <td>-53.549718</td>\n",
       "      <td>-7.294380</td>\n",
       "      <td>-4.880976</td>\n",
       "      <td>8.120048</td>\n",
       "      <td>-1.609176</td>\n",
       "      <td>-10.360692</td>\n",
       "    </tr>\n",
       "    <tr>\n",
       "      <th>3</th>\n",
       "      <td>283.586890</td>\n",
       "      <td>-33.794160</td>\n",
       "      <td>-23.530823</td>\n",
       "      <td>-11.672208</td>\n",
       "      <td>5.818331</td>\n",
       "      <td>13.332588</td>\n",
       "      <td>-28.107817</td>\n",
       "      <td>-0.586760</td>\n",
       "      <td>5.310681</td>\n",
       "      <td>-7.237384</td>\n",
       "      <td>6.491864</td>\n",
       "      <td>-28.225484</td>\n",
       "    </tr>\n",
       "    <tr>\n",
       "      <th>4</th>\n",
       "      <td>228.585736</td>\n",
       "      <td>36.346397</td>\n",
       "      <td>68.726927</td>\n",
       "      <td>21.968284</td>\n",
       "      <td>-39.815117</td>\n",
       "      <td>-37.496932</td>\n",
       "      <td>-58.202005</td>\n",
       "      <td>31.824670</td>\n",
       "      <td>20.070525</td>\n",
       "      <td>-8.954472</td>\n",
       "      <td>1.788237</td>\n",
       "      <td>-7.906751</td>\n",
       "    </tr>\n",
       "  </tbody>\n",
       "</table>\n",
       "</div>"
      ],
      "text/plain": [
       "   mfcc_median_1  mfcc_median_2  mfcc_median_3  mfcc_median_4  mfcc_median_5  \\\n",
       "0     272.330770      -8.595469      38.280541      -9.332285     -33.662383   \n",
       "1     234.689936       7.647177      61.076451      24.944757     -38.814549   \n",
       "2     310.780165      -5.903211     -11.727140     -53.900031      -0.840551   \n",
       "3     283.586890     -33.794160     -23.530823     -11.672208       5.818331   \n",
       "4     228.585736      36.346397      68.726927      21.968284     -39.815117   \n",
       "\n",
       "   mfcc_median_6  mfcc_median_7  mfcc_median_8  mfcc_median_9  mfcc_median_10  \\\n",
       "0     -16.696240     -44.373869      30.528335      43.265023      -12.658478   \n",
       "1     -16.006891     -47.088980      34.107574      38.258621       -8.202258   \n",
       "2      43.646544     -53.549718      -7.294380      -4.880976        8.120048   \n",
       "3      13.332588     -28.107817      -0.586760       5.310681       -7.237384   \n",
       "4     -37.496932     -58.202005      31.824670      20.070525       -8.954472   \n",
       "\n",
       "   mfcc_median_11  mfcc_median_12  \n",
       "0        2.939703      -45.539513  \n",
       "1       -0.152856      -28.319855  \n",
       "2       -1.609176      -10.360692  \n",
       "3        6.491864      -28.225484  \n",
       "4        1.788237       -7.906751  "
      ]
     },
     "execution_count": 24,
     "metadata": {},
     "output_type": "execute_result"
    }
   ],
   "source": [
    "british_df.head()"
   ]
  },
  {
   "cell_type": "code",
   "execution_count": 15,
   "id": "d20a259c",
   "metadata": {},
   "outputs": [
    {
     "data": {
      "text/html": [
       "<div>\n",
       "<style scoped>\n",
       "    .dataframe tbody tr th:only-of-type {\n",
       "        vertical-align: middle;\n",
       "    }\n",
       "\n",
       "    .dataframe tbody tr th {\n",
       "        vertical-align: top;\n",
       "    }\n",
       "\n",
       "    .dataframe thead th {\n",
       "        text-align: right;\n",
       "    }\n",
       "</style>\n",
       "<table border=\"1\" class=\"dataframe\">\n",
       "  <thead>\n",
       "    <tr style=\"text-align: right;\">\n",
       "      <th></th>\n",
       "      <th>speaker</th>\n",
       "      <th>phoneme</th>\n",
       "      <th>mfcc_median_1</th>\n",
       "      <th>mfcc_median_2</th>\n",
       "      <th>mfcc_median_3</th>\n",
       "      <th>mfcc_median_4</th>\n",
       "      <th>mfcc_median_5</th>\n",
       "      <th>mfcc_median_6</th>\n",
       "      <th>mfcc_median_7</th>\n",
       "      <th>mfcc_median_8</th>\n",
       "      <th>mfcc_median_9</th>\n",
       "      <th>mfcc_median_10</th>\n",
       "      <th>mfcc_median_11</th>\n",
       "      <th>mfcc_median_12</th>\n",
       "      <th>accent</th>\n",
       "    </tr>\n",
       "  </thead>\n",
       "  <tbody>\n",
       "    <tr>\n",
       "      <th>0</th>\n",
       "      <td>FAEM0</td>\n",
       "      <td>aa</td>\n",
       "      <td>257.883645</td>\n",
       "      <td>-112.555597</td>\n",
       "      <td>-86.220083</td>\n",
       "      <td>-50.271755</td>\n",
       "      <td>3.079204</td>\n",
       "      <td>-5.562003</td>\n",
       "      <td>-26.631936</td>\n",
       "      <td>29.764815</td>\n",
       "      <td>-27.643056</td>\n",
       "      <td>10.231153</td>\n",
       "      <td>-34.380283</td>\n",
       "      <td>-7.140240</td>\n",
       "      <td>DR2</td>\n",
       "    </tr>\n",
       "    <tr>\n",
       "      <th>1</th>\n",
       "      <td>FAEM0</td>\n",
       "      <td>ae</td>\n",
       "      <td>184.540988</td>\n",
       "      <td>-101.264124</td>\n",
       "      <td>20.184421</td>\n",
       "      <td>-65.233988</td>\n",
       "      <td>-58.582363</td>\n",
       "      <td>-2.225008</td>\n",
       "      <td>-0.678909</td>\n",
       "      <td>25.271649</td>\n",
       "      <td>-30.760208</td>\n",
       "      <td>8.738763</td>\n",
       "      <td>-26.511251</td>\n",
       "      <td>6.101677</td>\n",
       "      <td>DR2</td>\n",
       "    </tr>\n",
       "    <tr>\n",
       "      <th>2</th>\n",
       "      <td>FAEM0</td>\n",
       "      <td>ah</td>\n",
       "      <td>219.272779</td>\n",
       "      <td>-83.626224</td>\n",
       "      <td>-64.816535</td>\n",
       "      <td>-104.352116</td>\n",
       "      <td>-9.288058</td>\n",
       "      <td>9.723022</td>\n",
       "      <td>-24.519672</td>\n",
       "      <td>0.941554</td>\n",
       "      <td>-24.264161</td>\n",
       "      <td>1.370557</td>\n",
       "      <td>-50.845472</td>\n",
       "      <td>5.135265</td>\n",
       "      <td>DR2</td>\n",
       "    </tr>\n",
       "    <tr>\n",
       "      <th>3</th>\n",
       "      <td>FAEM0</td>\n",
       "      <td>ao</td>\n",
       "      <td>282.929808</td>\n",
       "      <td>-52.180998</td>\n",
       "      <td>-80.782587</td>\n",
       "      <td>-103.281453</td>\n",
       "      <td>-15.977900</td>\n",
       "      <td>40.787098</td>\n",
       "      <td>-28.712984</td>\n",
       "      <td>1.708404</td>\n",
       "      <td>-32.963508</td>\n",
       "      <td>14.709629</td>\n",
       "      <td>-7.342895</td>\n",
       "      <td>-10.294335</td>\n",
       "      <td>DR2</td>\n",
       "    </tr>\n",
       "    <tr>\n",
       "      <th>4</th>\n",
       "      <td>FAEM0</td>\n",
       "      <td>aw</td>\n",
       "      <td>216.890160</td>\n",
       "      <td>-98.217040</td>\n",
       "      <td>-56.656631</td>\n",
       "      <td>-92.011346</td>\n",
       "      <td>-27.605560</td>\n",
       "      <td>4.129498</td>\n",
       "      <td>-17.425102</td>\n",
       "      <td>16.674520</td>\n",
       "      <td>-29.656561</td>\n",
       "      <td>4.851841</td>\n",
       "      <td>-64.782092</td>\n",
       "      <td>12.218158</td>\n",
       "      <td>DR2</td>\n",
       "    </tr>\n",
       "  </tbody>\n",
       "</table>\n",
       "</div>"
      ],
      "text/plain": [
       "  speaker phoneme  mfcc_median_1  mfcc_median_2  mfcc_median_3  mfcc_median_4  \\\n",
       "0   FAEM0      aa     257.883645    -112.555597     -86.220083     -50.271755   \n",
       "1   FAEM0      ae     184.540988    -101.264124      20.184421     -65.233988   \n",
       "2   FAEM0      ah     219.272779     -83.626224     -64.816535    -104.352116   \n",
       "3   FAEM0      ao     282.929808     -52.180998     -80.782587    -103.281453   \n",
       "4   FAEM0      aw     216.890160     -98.217040     -56.656631     -92.011346   \n",
       "\n",
       "   mfcc_median_5  mfcc_median_6  mfcc_median_7  mfcc_median_8  mfcc_median_9  \\\n",
       "0       3.079204      -5.562003     -26.631936      29.764815     -27.643056   \n",
       "1     -58.582363      -2.225008      -0.678909      25.271649     -30.760208   \n",
       "2      -9.288058       9.723022     -24.519672       0.941554     -24.264161   \n",
       "3     -15.977900      40.787098     -28.712984       1.708404     -32.963508   \n",
       "4     -27.605560       4.129498     -17.425102      16.674520     -29.656561   \n",
       "\n",
       "   mfcc_median_10  mfcc_median_11  mfcc_median_12 accent  \n",
       "0       10.231153      -34.380283       -7.140240    DR2  \n",
       "1        8.738763      -26.511251        6.101677    DR2  \n",
       "2        1.370557      -50.845472        5.135265    DR2  \n",
       "3       14.709629       -7.342895      -10.294335    DR2  \n",
       "4        4.851841      -64.782092       12.218158    DR2  "
      ]
     },
     "execution_count": 15,
     "metadata": {},
     "output_type": "execute_result"
    }
   ],
   "source": [
    "train.head()"
   ]
  },
  {
   "cell_type": "code",
   "execution_count": 26,
   "id": "enormous-discretion",
   "metadata": {},
   "outputs": [
    {
     "data": {
      "text/plain": [
       "(42195, 44)"
      ]
     },
     "execution_count": 26,
     "metadata": {},
     "output_type": "execute_result"
    }
   ],
   "source": [
    "test.shape # 13596\n",
    "\n",
    "test.loc[test['phoneme'].isin(train['phoneme'])].shape"
   ]
  },
  {
   "cell_type": "code",
   "execution_count": 27,
   "id": "consecutive-lobby",
   "metadata": {},
   "outputs": [
    {
     "data": {
      "text/plain": [
       "DR4    12207\n",
       "DR5     6510\n",
       "DR3     6426\n",
       "DR2     6265\n",
       "DR7     5445\n",
       "DR1     2691\n",
       "DR6     2651\n",
       "Name: accent, dtype: int64"
      ]
     },
     "execution_count": 27,
     "metadata": {},
     "output_type": "execute_result"
    }
   ],
   "source": [
    "test.accent.value_counts()"
   ]
  },
  {
   "cell_type": "code",
   "execution_count": 28,
   "id": "published-distributor",
   "metadata": {},
   "outputs": [
    {
     "data": {
      "image/png": "[encoded data removed]",
      "text/plain": [
       "<Figure size 1152x1008 with 2 Axes>"
      ]
     },
     "metadata": {
      "needs_background": "light"
     },
     "output_type": "display_data"
    },
    {
     "name": "stdout",
     "output_type": "stream",
     "text": [
      "Logistic Reg Number of mislabeled points out of a total 42195 points : 36511\n",
      "                   DR1          DR2          DR3           DR4          DR5  \\\n",
      "precision     0.065587     0.161433     0.192058      0.233338     0.143197   \n",
      "recall        0.146042     0.064006     0.170090      0.124191     0.101843   \n",
      "f1-score      0.090522     0.091668     0.180408      0.162104     0.119031   \n",
      "support    2691.000000  6265.000000  6426.000000  12207.000000  6510.000000   \n",
      "\n",
      "                   DR6          DR7  accuracy     macro avg  weighted avg  \n",
      "precision     0.064335     0.147538  0.134708      0.143927      0.170080  \n",
      "recall        0.255375     0.172819  0.134708      0.147767      0.134708  \n",
      "f1-score      0.102778     0.159181  0.134708      0.129384      0.139118  \n",
      "support    2651.000000  5445.000000  0.134708  42195.000000  42195.000000  \n"
     ]
    }
   ],
   "source": [
    "def logistic_reg(train, test, display_conf=True, word=None, features = None):\n",
    "    if features:\n",
    "        feature_cols = features\n",
    "        \n",
    "    else:\n",
    "        feature_cols = [x for x in train.columns if 'mfcc_median' in x]\n",
    "\n",
    "    if word:\n",
    "        train = train.loc[train['word'] == word]\n",
    "        test = test.loc[test['word'] == word]\n",
    "        \n",
    "        \n",
    "    X_train = train[feature_cols]\n",
    "    y_train = train['accent']\n",
    "    \n",
    "    X_test = test[feature_cols]\n",
    "    y_test = test['accent']\n",
    "        \n",
    "    logit = LogisticRegression(max_iter = 1250, class_weight='balanced', C=0.01)\n",
    "    logit.fit(X_train, y_train)\n",
    "    \n",
    "    y_pred = logit.predict(X_test)\n",
    "    \n",
    "    conf_df = pd.DataFrame(classification_report(y_test, y_pred, output_dict=True))\n",
    "\n",
    "    if display_conf:\n",
    "        conf_mat = confusion_matrix(y_test, y_pred)\n",
    "        plot_conf_matconf(conf_mat)\n",
    "    \n",
    "        print(\"Logistic Reg Number of mislabeled points out of a total %d points : %d\" % (X_test.shape[0], (y_test != y_pred).sum()))    \n",
    "        print(conf_df)\n",
    "    \n",
    "    \n",
    "    return logit, y_pred, conf_df\n",
    "\n",
    "\n",
    "logit_whole, logit_y_pred_whole, logit_conf_whole = logistic_reg(train, test)\n",
    "\n"
   ]
  },
  {
   "cell_type": "code",
   "execution_count": 29,
   "id": "danish-depression",
   "metadata": {},
   "outputs": [],
   "source": [
    "british_pred = logit_whole.predict(british_df)"
   ]
  },
  {
   "cell_type": "code",
   "execution_count": 30,
   "id": "hired-first",
   "metadata": {},
   "outputs": [
    {
     "name": "stdout",
     "output_type": "stream",
     "text": [
      "DR4    61692\n",
      "DR7    50071\n",
      "DR2    24513\n",
      "DR6    23449\n",
      "DR1    21135\n",
      "DR3    12707\n",
      "DR5    12345\n",
      "Name: pred_accent, dtype: int64\n"
     ]
    },
    {
     "data": {
      "text/html": [
       "<div>\n",
       "<style scoped>\n",
       "    .dataframe tbody tr th:only-of-type {\n",
       "        vertical-align: middle;\n",
       "    }\n",
       "\n",
       "    .dataframe tbody tr th {\n",
       "        vertical-align: top;\n",
       "    }\n",
       "\n",
       "    .dataframe thead th {\n",
       "        text-align: right;\n",
       "    }\n",
       "</style>\n",
       "<table border=\"1\" class=\"dataframe\">\n",
       "  <thead>\n",
       "    <tr style=\"text-align: right;\">\n",
       "      <th></th>\n",
       "      <th>pred_tally</th>\n",
       "      <th>pred_percent</th>\n",
       "    </tr>\n",
       "    <tr>\n",
       "      <th>pred_accent</th>\n",
       "      <th></th>\n",
       "      <th></th>\n",
       "    </tr>\n",
       "  </thead>\n",
       "  <tbody>\n",
       "    <tr>\n",
       "      <th>DR1</th>\n",
       "      <td>21135</td>\n",
       "      <td>10.264093</td>\n",
       "    </tr>\n",
       "    <tr>\n",
       "      <th>DR2</th>\n",
       "      <td>24513</td>\n",
       "      <td>11.904600</td>\n",
       "    </tr>\n",
       "    <tr>\n",
       "      <th>DR3</th>\n",
       "      <td>12707</td>\n",
       "      <td>6.171083</td>\n",
       "    </tr>\n",
       "    <tr>\n",
       "      <th>DR4</th>\n",
       "      <td>61692</td>\n",
       "      <td>29.960371</td>\n",
       "    </tr>\n",
       "    <tr>\n",
       "      <th>DR5</th>\n",
       "      <td>12345</td>\n",
       "      <td>5.995280</td>\n",
       "    </tr>\n",
       "    <tr>\n",
       "      <th>DR6</th>\n",
       "      <td>23449</td>\n",
       "      <td>11.387874</td>\n",
       "    </tr>\n",
       "    <tr>\n",
       "      <th>DR7</th>\n",
       "      <td>50071</td>\n",
       "      <td>24.316698</td>\n",
       "    </tr>\n",
       "  </tbody>\n",
       "</table>\n",
       "</div>"
      ],
      "text/plain": [
       "             pred_tally  pred_percent\n",
       "pred_accent                          \n",
       "DR1               21135     10.264093\n",
       "DR2               24513     11.904600\n",
       "DR3               12707      6.171083\n",
       "DR4               61692     29.960371\n",
       "DR5               12345      5.995280\n",
       "DR6               23449     11.387874\n",
       "DR7               50071     24.316698"
      ]
     },
     "execution_count": 30,
     "metadata": {},
     "output_type": "execute_result"
    }
   ],
   "source": [
    "whole_pred = pd.DataFrame(british_pred, columns = ['pred_accent'])\n",
    "\n",
    "whole_pred['pred_tally'] = 1\n",
    "\n",
    "print(whole_pred['pred_accent'].value_counts())\n",
    "\n",
    "\n",
    "whole_bp = whole_pred.groupby('pred_accent').sum()\n",
    "whole_bp['pred_percent'] = whole_bp['pred_tally'] / whole_bp['pred_tally'].sum() * 100.00\n",
    "\n",
    "whole_bp.head(10)"
   ]
  },
  {
   "cell_type": "code",
   "execution_count": 41,
   "id": "psychological-compatibility",
   "metadata": {},
   "outputs": [],
   "source": [
    "consolidate_region_map = {\n",
    "    'DR1': 'North',\n",
    "    'DR2': 'North',\n",
    "    'DR3': 'Mid',\n",
    "    'DR4': 'Mid',\n",
    "    'DR5': 'South',\n",
    "    'DR6': 'North',\n",
    "    'DR7': 'West',\n",
    "}\n",
    "\n",
    "\n",
    "\n",
    "def consolidate_regions(train, test, dict_map):\n",
    "    condensed_train = train.copy()\n",
    "    condensed_train['region'] = condensed_train['accent'].map(dict_map)\n",
    "    condensed_train['accent'] = condensed_train['region']\n",
    "    \n",
    "    condensed_test = test.copy()\n",
    "    condensed_test['region'] = condensed_test['accent'].map(dict_map)\n",
    "    condensed_test['accent'] = condensed_test['region']\n",
    "    \n",
    "    return condensed_train, condensed_test\n"
   ]
  },
  {
   "cell_type": "code",
   "execution_count": 42,
   "id": "unknown-easter",
   "metadata": {},
   "outputs": [
    {
     "data": {
      "text/plain": [
       "Mid      4003\n",
       "North    3376\n",
       "South    1923\n",
       "West     1552\n",
       "Name: accent, dtype: int64"
      ]
     },
     "execution_count": 42,
     "metadata": {},
     "output_type": "execute_result"
    }
   ],
   "source": [
    "condensed_train, condensed_test = consolidate_regions(train, test, consolidate_region_map)\n",
    "\n",
    "condensed_test.accent.value_counts()"
   ]
  },
  {
   "cell_type": "code",
   "execution_count": 43,
   "id": "controversial-element",
   "metadata": {},
   "outputs": [
    {
     "data": {
      "image/png": "[encoded data removed]",
      "text/plain": [
       "<Figure size 1152x1008 with 2 Axes>"
      ]
     },
     "metadata": {
      "needs_background": "light"
     },
     "output_type": "display_data"
    },
    {
     "name": "stdout",
     "output_type": "stream",
     "text": [
      "Logistic Reg Number of mislabeled points out of a total 10854 points : 7348\n",
      "                   Mid        North        South         West  accuracy  \\\n",
      "precision     0.338072     0.312570     0.142857     0.307692  0.323015   \n",
      "recall        0.380215     0.582642     0.000520     0.010309  0.323015   \n",
      "f1-score      0.357907     0.406867     0.001036     0.019950  0.323015   \n",
      "support    4003.000000  3376.000000  1923.000000  1552.000000  0.323015   \n",
      "\n",
      "              macro avg  weighted avg  \n",
      "precision      0.275298      0.291210  \n",
      "recall         0.243422      0.323015  \n",
      "f1-score       0.196440      0.261585  \n",
      "support    10854.000000  10854.000000  \n"
     ]
    }
   ],
   "source": [
    "logit_condensed, logit_y_pred_condensed, logit_conf_condensed = logistic_reg(condensed_train, condensed_test)\n"
   ]
  },
  {
   "cell_type": "code",
   "execution_count": 48,
   "id": "sitting-species",
   "metadata": {},
   "outputs": [
    {
     "name": "stdout",
     "output_type": "stream",
     "text": [
      "West     492\n",
      "North    203\n",
      "Mid       37\n",
      "Name: pred_accent, dtype: int64\n"
     ]
    },
    {
     "data": {
      "text/html": [
       "<div>\n",
       "<style scoped>\n",
       "    .dataframe tbody tr th:only-of-type {\n",
       "        vertical-align: middle;\n",
       "    }\n",
       "\n",
       "    .dataframe tbody tr th {\n",
       "        vertical-align: top;\n",
       "    }\n",
       "\n",
       "    .dataframe thead th {\n",
       "        text-align: right;\n",
       "    }\n",
       "</style>\n",
       "<table border=\"1\" class=\"dataframe\">\n",
       "  <thead>\n",
       "    <tr style=\"text-align: right;\">\n",
       "      <th></th>\n",
       "      <th>pred_tally</th>\n",
       "      <th>pred_percent</th>\n",
       "    </tr>\n",
       "    <tr>\n",
       "      <th>pred_accent</th>\n",
       "      <th></th>\n",
       "      <th></th>\n",
       "    </tr>\n",
       "  </thead>\n",
       "  <tbody>\n",
       "    <tr>\n",
       "      <th>Mid</th>\n",
       "      <td>37</td>\n",
       "      <td>5.054645</td>\n",
       "    </tr>\n",
       "    <tr>\n",
       "      <th>North</th>\n",
       "      <td>203</td>\n",
       "      <td>27.732240</td>\n",
       "    </tr>\n",
       "    <tr>\n",
       "      <th>West</th>\n",
       "      <td>492</td>\n",
       "      <td>67.213115</td>\n",
       "    </tr>\n",
       "  </tbody>\n",
       "</table>\n",
       "</div>"
      ],
      "text/plain": [
       "             pred_tally  pred_percent\n",
       "pred_accent                          \n",
       "Mid                  37      5.054645\n",
       "North               203     27.732240\n",
       "West                492     67.213115"
      ]
     },
     "execution_count": 48,
     "metadata": {},
     "output_type": "execute_result"
    }
   ],
   "source": [
    "british_pred = logit_condensed.predict(british_df)\n",
    "\n",
    "\n",
    "condensed_pred = pd.DataFrame(british_pred, columns = ['pred_accent'])\n",
    "\n",
    "condensed_pred['pred_tally'] = 1\n",
    "\n",
    "print(condensed_pred['pred_accent'].value_counts())\n",
    "\n",
    "\n",
    "condensed__sum = condensed_pred.groupby('pred_accent').sum()\n",
    "condensed__sum['pred_percent'] = condensed__sum['pred_tally'] / condensed__sum['pred_tally'].sum() * 100.00\n",
    "\n",
    "condensed__sum.head(10)\n"
   ]
  },
  {
   "cell_type": "code",
   "execution_count": 49,
   "id": "nonprofit-report",
   "metadata": {},
   "outputs": [
    {
     "data": {
      "text/plain": [
       "East    27407\n",
       "West     5821\n",
       "Name: accent, dtype: int64"
      ]
     },
     "execution_count": 49,
     "metadata": {},
     "output_type": "execute_result"
    }
   ],
   "source": [
    "consolidate_mas = {\n",
    "    'North': 'East',\n",
    "    'Mid': 'East',\n",
    "    'South': 'East',\n",
    "    'West': 'West',\n",
    "}\n",
    "\n",
    "\n",
    "condensed_train_two_regions, condensed_tes_two_regions = consolidate_regions(condensed_train, condensed_test, consolidate_mas)\n",
    "\n",
    "\n",
    "condensed_train_two_regions.accent.value_counts()"
   ]
  },
  {
   "cell_type": "code",
   "execution_count": 50,
   "id": "ongoing-weekly",
   "metadata": {},
   "outputs": [
    {
     "name": "stderr",
     "output_type": "stream",
     "text": [
      "C:\\Users\\glenn\\miniconda3\\envs\\cda\\lib\\site-packages\\sklearn\\metrics\\_classification.py:1245: UndefinedMetricWarning: Precision and F-score are ill-defined and being set to 0.0 in labels with no predicted samples. Use `zero_division` parameter to control this behavior.\n",
      "  _warn_prf(average, modifier, msg_start, len(result))\n",
      "C:\\Users\\glenn\\miniconda3\\envs\\cda\\lib\\site-packages\\sklearn\\metrics\\_classification.py:1245: UndefinedMetricWarning: Precision and F-score are ill-defined and being set to 0.0 in labels with no predicted samples. Use `zero_division` parameter to control this behavior.\n",
      "  _warn_prf(average, modifier, msg_start, len(result))\n",
      "C:\\Users\\glenn\\miniconda3\\envs\\cda\\lib\\site-packages\\sklearn\\metrics\\_classification.py:1245: UndefinedMetricWarning: Precision and F-score are ill-defined and being set to 0.0 in labels with no predicted samples. Use `zero_division` parameter to control this behavior.\n",
      "  _warn_prf(average, modifier, msg_start, len(result))\n"
     ]
    },
    {
     "data": {
      "image/png": "[encoded data removed]",
      "text/plain": [
       "<Figure size 1152x1008 with 2 Axes>"
      ]
     },
     "metadata": {
      "needs_background": "light"
     },
     "output_type": "display_data"
    },
    {
     "name": "stdout",
     "output_type": "stream",
     "text": [
      "Logistic Reg Number of mislabeled points out of a total 10854 points : 1552\n",
      "                  East    West  accuracy     macro avg  weighted avg\n",
      "precision     0.857011     0.0  0.857011      0.428506      0.734468\n",
      "recall        1.000000     0.0  0.857011      0.500000      0.857011\n",
      "f1-score      0.923001     0.0  0.857011      0.461500      0.791022\n",
      "support    9302.000000  1552.0  0.857011  10854.000000  10854.000000\n"
     ]
    }
   ],
   "source": [
    "logit_cm, logit_y_pred_cm, logit_conf_cm = logistic_reg(condensed_train_two_regions, condensed_tes_two_regions)\n"
   ]
  },
  {
   "cell_type": "code",
   "execution_count": 51,
   "id": "massive-longer",
   "metadata": {},
   "outputs": [
    {
     "name": "stdout",
     "output_type": "stream",
     "text": [
      "East    569\n",
      "West    163\n",
      "Name: pred_accent, dtype: int64\n"
     ]
    },
    {
     "data": {
      "text/html": [
       "<div>\n",
       "<style scoped>\n",
       "    .dataframe tbody tr th:only-of-type {\n",
       "        vertical-align: middle;\n",
       "    }\n",
       "\n",
       "    .dataframe tbody tr th {\n",
       "        vertical-align: top;\n",
       "    }\n",
       "\n",
       "    .dataframe thead th {\n",
       "        text-align: right;\n",
       "    }\n",
       "</style>\n",
       "<table border=\"1\" class=\"dataframe\">\n",
       "  <thead>\n",
       "    <tr style=\"text-align: right;\">\n",
       "      <th></th>\n",
       "      <th>pred_tally</th>\n",
       "      <th>pred_percent</th>\n",
       "    </tr>\n",
       "    <tr>\n",
       "      <th>pred_accent</th>\n",
       "      <th></th>\n",
       "      <th></th>\n",
       "    </tr>\n",
       "  </thead>\n",
       "  <tbody>\n",
       "    <tr>\n",
       "      <th>East</th>\n",
       "      <td>569</td>\n",
       "      <td>77.73224</td>\n",
       "    </tr>\n",
       "    <tr>\n",
       "      <th>West</th>\n",
       "      <td>163</td>\n",
       "      <td>22.26776</td>\n",
       "    </tr>\n",
       "  </tbody>\n",
       "</table>\n",
       "</div>"
      ],
      "text/plain": [
       "             pred_tally  pred_percent\n",
       "pred_accent                          \n",
       "East                569      77.73224\n",
       "West                163      22.26776"
      ]
     },
     "execution_count": 51,
     "metadata": {},
     "output_type": "execute_result"
    }
   ],
   "source": [
    "british_pred = logit_cm.predict(british_df)\n",
    "\n",
    "\n",
    "cm_pred = pd.DataFrame(british_pred, columns = ['pred_accent'])\n",
    "\n",
    "cm_pred['pred_tally'] = 1\n",
    "\n",
    "print(cm_pred['pred_accent'].value_counts())\n",
    "\n",
    "\n",
    "cm_pred__sum = cm_pred.groupby('pred_accent').sum()\n",
    "cm_pred__sum['pred_percent'] = cm_pred__sum['pred_tally'] / cm_pred__sum['pred_tally'].sum() * 100.00\n",
    "\n",
    "cm_pred__sum.head(10)"
   ]
  },
  {
   "cell_type": "code",
   "execution_count": null,
   "id": "french-cooper",
   "metadata": {},
   "outputs": [],
   "source": []
  }
 ],
 "metadata": {
  "kernelspec": {
   "display_name": "Python 3",
   "language": "python",
   "name": "python3"
  },
  "language_info": {
   "codemirror_mode": {
    "name": "ipython",
    "version": 3
   },
   "file_extension": ".py",
   "mimetype": "text/x-python",
   "name": "python",
   "nbconvert_exporter": "python",
   "pygments_lexer": "ipython3",
   "version": "3.7.4"
  }
 },
 "nbformat": 4,
 "nbformat_minor": 5
}
